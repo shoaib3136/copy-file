{
 "cells": [
  {
   "cell_type": "code",
   "execution_count": 1,
   "id": "390b94e3-a40d-4a98-b658-40562d02668f",
   "metadata": {},
   "outputs": [],
   "source": [
    "with open(\"Myfile.txt\",\"r\") as fp:\n",
    "    x = fp.read()\n",
    "with open(\"Myfile2.txt\",\"w\") as fp1:\n",
    "    fp1.write(x)"
   ]
  },
  {
   "cell_type": "code",
   "execution_count": null,
   "id": "aa215cb7-7ff9-464f-acce-2e7e9442c19a",
   "metadata": {},
   "outputs": [],
   "source": []
  }
 ],
 "metadata": {
  "kernelspec": {
   "display_name": "Python 3 (ipykernel)",
   "language": "python",
   "name": "python3"
  },
  "language_info": {
   "codemirror_mode": {
    "name": "ipython",
    "version": 3
   },
   "file_extension": ".py",
   "mimetype": "text/x-python",
   "name": "python",
   "nbconvert_exporter": "python",
   "pygments_lexer": "ipython3",
   "version": "3.10.4"
  }
 },
 "nbformat": 4,
 "nbformat_minor": 5
}
